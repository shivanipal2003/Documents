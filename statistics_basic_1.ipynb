{
 "cells": [
  {
   "cell_type": "markdown",
   "id": "3cc12224-ed4a-4404-86bf-d633ddb1602d",
   "metadata": {},
   "source": [
    "Q1"
   ]
  },
  {
   "cell_type": "code",
   "execution_count": 4,
   "id": "109fe2b9-76e6-41d2-8f0a-2ac82e173549",
   "metadata": {},
   "outputs": [],
   "source": [
    "#Statistic is a science of collecting, organizing and summarzing the data."
   ]
  },
  {
   "cell_type": "markdown",
   "id": "25b6669c-1b23-4b99-afa4-28772b5c500b",
   "metadata": {},
   "source": [
    "Q2"
   ]
  },
  {
   "cell_type": "code",
   "execution_count": 3,
   "id": "294431c1-a792-4ed1-afce-d988fa1bfcf5",
   "metadata": {},
   "outputs": [
    {
     "data": {
      "text/plain": [
       "'TWO types of statistic are:\\n1) decsriptive statistic 2) inference statistic'"
      ]
     },
     "execution_count": 3,
     "metadata": {},
     "output_type": "execute_result"
    }
   ],
   "source": [
    "'''TWO types of statistic are:\n",
    "1) decsriptive statistic 2) inference statistic'''"
   ]
  },
  {
   "cell_type": "code",
   "execution_count": 5,
   "id": "fd87bc50-36e8-4ae4-84fd-e0a2942c05a8",
   "metadata": {},
   "outputs": [],
   "source": [
    "#example of decscriptive are: histrogram and central tendancy(mean,mode, median),pmf and pdf.\n",
    "# example of inference statistic are: if your class  10 student in which   8 of those  who like cricket,\n",
    "#while 2 not , the data will show that 80 percent of the sample like cricket. while 20 percent of sample do not ."
   ]
  },
  {
   "cell_type": "markdown",
   "id": "640604f9-0776-4f0b-bc75-a184f066a86a",
   "metadata": {},
   "source": [
    "Q3"
   ]
  },
  {
   "cell_type": "code",
   "execution_count": null,
   "id": "e86509b8-7580-4b44-9da8-9c37dc1852ae",
   "metadata": {},
   "outputs": [],
   "source": [
    "'''DATA are two types 1)quantitive(numerical [+,-,/,*] ) 2)qualitative (categorical data [gender : m/f])'''"
   ]
  },
  {
   "cell_type": "markdown",
   "id": "284a8a87-1bba-4839-ad88-9f5329cc7788",
   "metadata": {},
   "source": [
    "Q4"
   ]
  },
  {
   "cell_type": "code",
   "execution_count": null,
   "id": "55db7d58-2953-4b27-8ebd-1c03596e6023",
   "metadata": {},
   "outputs": [],
   "source": [
    "''' \n",
    "1) ORDINAL qualitative dataset \n",
    "2) nominal qualitative dataset\n",
    "3) continuous quantitative dataset \n",
    "4) discrete quantitative dataset'''"
   ]
  },
  {
   "cell_type": "markdown",
   "id": "7288f269-498a-40d0-8c3a-bcf9757f7f1b",
   "metadata": {},
   "source": [
    "Q5"
   ]
  },
  {
   "cell_type": "code",
   "execution_count": 6,
   "id": "1edfc3ae-9b2f-4b24-ac8e-d164d745b497",
   "metadata": {},
   "outputs": [
    {
     "data": {
      "text/plain": [
       "'Levels of measurement, also called scales of measurement, tell us how precisely variables are recorded.\\n4 levels of measurement:\\nnominal: fav colours ,flags of different countries\\nordinal: grading \\ninterval: test scores\\nratio: height, weight,age'"
      ]
     },
     "execution_count": 6,
     "metadata": {},
     "output_type": "execute_result"
    }
   ],
   "source": [
    "'''Levels of measurement, also called scales of measurement, tell us how precisely variables are recorded.\n",
    "4 levels of measurement:\n",
    "nominal: fav colours ,flags of different countries\n",
    "ordinal: grading \n",
    "interval: test scores\n",
    "ratio: height, weight,age'''"
   ]
  },
  {
   "cell_type": "markdown",
   "id": "22ed8516-cf42-4505-bd7b-8c1fcf731e67",
   "metadata": {},
   "source": [
    "Q6"
   ]
  },
  {
   "cell_type": "code",
   "execution_count": null,
   "id": "b7684309-3402-4733-b077-444c6d753eb4",
   "metadata": {},
   "outputs": [],
   "source": [
    "'''\n",
    "importance:\n",
    "Depending on the level of measurement, We can perform different descriptive statistics to get an overall summary of your data and inferential\n",
    "statistics to see if your results support or refute your hypothesis.\n",
    "example : we are creating the database of claas 4 and we have to assigned granding and marks of different subject on seperate column so, without \n",
    "proper level of mesurement we can't specific the different column separate.'''"
   ]
  },
  {
   "cell_type": "markdown",
   "id": "25acfb59-5bb1-4842-8b7c-ce3cd300f821",
   "metadata": {},
   "source": [
    "Q7"
   ]
  },
  {
   "cell_type": "code",
   "execution_count": null,
   "id": "709ad8ff-a75f-4409-8c39-268e53f67291",
   "metadata": {},
   "outputs": [],
   "source": [
    "#NOMINAL datatypes is not ranked and where as ordinal is ranked datatypes."
   ]
  },
  {
   "cell_type": "markdown",
   "id": "7214bbf7-0eaf-48e8-9df5-6d8c76f52c76",
   "metadata": {},
   "source": [
    "Q8"
   ]
  },
  {
   "cell_type": "code",
   "execution_count": null,
   "id": "4d7b27b1-3d9f-4b42-992e-596720296c43",
   "metadata": {},
   "outputs": [],
   "source": [
    "#HISTOGRAM "
   ]
  },
  {
   "cell_type": "markdown",
   "id": "a18677d5-f1ec-49f7-a1a1-afa6c104eac6",
   "metadata": {},
   "source": [
    "Q9"
   ]
  },
  {
   "cell_type": "code",
   "execution_count": null,
   "id": "13c00851-b442-4318-a467-c0bc9ce2171d",
   "metadata": {},
   "outputs": [],
   "source": [
    "#DESCRIPTIVE: its consists of organizing and summarizing data.\n",
    "#INFERENCE:its consists of using the data that you have measured to form conculsion.\n",
    "#for example of each types refer answer of 2"
   ]
  },
  {
   "cell_type": "markdown",
   "id": "437d99e6-7704-48da-ac82-b3ea98eaa2b4",
   "metadata": {},
   "source": [
    "Q10"
   ]
  },
  {
   "cell_type": "code",
   "execution_count": null,
   "id": "880f1d34-0dc0-4cf6-b7ec-1071341f4bd0",
   "metadata": {},
   "outputs": [],
   "source": [
    "'''\n",
    "The 3 most common measures of central tendency are the mode, median, and mean.\n",
    "\n",
    "Mode: the most frequent value.\n",
    "Median: the middle number in an ordered dataset.\n",
    "Mean: the sum of all values divided by the total number of values.\n",
    "\n",
    "Variability is  referred to as spread, scatter or dispersion. It is most commonly measured with the following:\n",
    "\n",
    "Standard deviation: average distance from the mean\n",
    "Variance: average of squared distances from the mean\n",
    "Table of contents'''\n",
    "\n"
   ]
  }
 ],
 "metadata": {
  "kernelspec": {
   "display_name": "Python 3 (ipykernel)",
   "language": "python",
   "name": "python3"
  },
  "language_info": {
   "codemirror_mode": {
    "name": "ipython",
    "version": 3
   },
   "file_extension": ".py",
   "mimetype": "text/x-python",
   "name": "python",
   "nbconvert_exporter": "python",
   "pygments_lexer": "ipython3",
   "version": "3.10.8"
  }
 },
 "nbformat": 4,
 "nbformat_minor": 5
}
